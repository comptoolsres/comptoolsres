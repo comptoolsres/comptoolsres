{
 "cells": [
  {
   "cell_type": "markdown",
   "metadata": {},
   "source": [
    "# Py4E: Ch 2: Variables, expressions, and statements\n",
    "\n",
    "## A note on change in format\n",
    "\n",
    "The previous sections of this website were written in Markdown and converted to static HTML pages to be served via github with [Jekyll](https://jekyllrb.com/), a [Ruby](https://www.ruby-lang.org/en/)-based framework, using the [Documentation theme](https://idratherbewriting.com/documentation-theme-jekyll/). \n",
    "\n",
    "For the Bash section, that worked Ok, and there are not great tools to mix interactive code demonstration with nicely formatted descriptions on the web.\n",
    "\n",
    "As we move into the Python section of the course, there is a tool made for this: Jupyter Notebooks. As such, more and more of the pages will be presented as Jupyter Notebooks. GitHub does a decent job of rendering static versions of notebooks on the web, but one neat thing about notebooks is that they remain fully interactive. I encourage you to clone the repository, load the Jupyter notebooks and play with the code."
   ]
  },
  {
   "cell_type": "markdown",
   "metadata": {},
   "source": [
    "\n",
    "\n",
    "* p. 20: **2.2 Variables**: Notice the difference between how variables are referenced in Bash and Python. In Bash, we assigned a value with something like `x=7` and the referenced the variable with something like `echo $x`--adding the `$` before the variable name. Most programming languages use some character, often the `$`, before variable names to help differentiate other text from variables. Python is different in that it does not use any special characters. As we will see, this can create other problems. A good text editor with syntax coloring will help you out here too!\n"
   ]
  },
  {
   "cell_type": "code",
   "execution_count": 2,
   "metadata": {},
   "outputs": [],
   "source": [
    "message = 'And now for something completely different'\n",
    "n = 17\n",
    "pi = 3.1415926535897931"
   ]
  },
  {
   "cell_type": "code",
   "execution_count": 3,
   "metadata": {},
   "outputs": [
    {
     "output_type": "stream",
     "name": "stdout",
     "text": "And now for something completely different\n17\nPi is: 3.141592653589793\n"
    }
   ],
   "source": [
    "print(message)\n",
    "print(n)\n",
    "print (\"Pi is:\", pi)"
   ]
  },
  {
   "cell_type": "markdown",
   "metadata": {},
   "source": [
    "As noted above, we do need to make some adjustments. In Bash, we could have done something like:\n",
    "\n",
    "```Bash\n",
    "[magitz@login4 ~]$ pi=3.14\n",
    "[magitz@login4 ~]$ echo \"Pi is: $pi\"\n",
    "Pi is: 3.14\n",
    "```\n",
    "\n",
    "Let's try that in Python:"
   ]
  },
  {
   "cell_type": "code",
   "execution_count": 4,
   "metadata": {},
   "outputs": [
    {
     "output_type": "stream",
     "name": "stdout",
     "text": "Pi is: pi\n"
    }
   ],
   "source": [
    "print(\"Pi is: pi\")"
   ]
  },
  {
   "cell_type": "markdown",
   "metadata": {},
   "source": [
    "Not quite what we were after! There are a number of ways of getting what we want and there have even been some recently added methods for newer versions of Python. Below are 3 methods:"
   ]
  },
  {
   "cell_type": "code",
   "execution_count": 5,
   "metadata": {},
   "outputs": [
    {
     "output_type": "stream",
     "name": "stdout",
     "text": "Pis is: 3.141592653589793\nPi is: 3.141592653589793\nPi is: 3.141592653589793\n"
    }
   ],
   "source": [
    "print(\"Pis is:\", pi)  # Maybe the most traditional way. Can get complex with many variables\n",
    "print(\"Pi is: %s\" %(pi)) # The %s says add the string vaiable here.\n",
    "print(f\"Pi is: {pi}\")  # The new \"f-strings\" format in Python 3.6 and above."
   ]
  },
  {
   "cell_type": "markdown",
   "metadata": {},
   "source": [
    "## Vaiable Types\n",
    "\n",
    "### Implicit vs explicit typing\n",
    "Like Bash, Pyhton uses implicit typing of variables. This is also sometimes called \"duck typing\". That is, if it looks like an integer, it's an integer. Variables are typed based on the data they store at the time.\n",
    "\n",
    "The oposite of implicit typing is **explicit typing** where you, as the coder, must declare--when you define the variable--what type of data it will hold. C, C++ and others rely on explicit typing--this tends to be the case for compiled programs as the machine code needs to be compiled to properly store the data before the data are present. This forces coders to be more explicit about what they plan to do with a variable, but can also be limiting when you might want to not be explicit ahead of time.\n",
    "\n",
    "Implicit typing is handy for programmers because you don't need to think about what type of data the variable will hold...except that you kind of do, because different types do different things when you operate on them."
   ]
  },
  {
   "cell_type": "code",
   "execution_count": 6,
   "metadata": {},
   "outputs": [
    {
     "output_type": "stream",
     "name": "stdout",
     "text": "Stringtext\n"
    }
   ],
   "source": [
    "x=\"String\"\n",
    "y=\"text\"\n",
    "print (x+y)"
   ]
  },
  {
   "cell_type": "code",
   "execution_count": 7,
   "metadata": {},
   "outputs": [
    {
     "output_type": "stream",
     "name": "stdout",
     "text": "8\n"
    }
   ],
   "source": [
    "x=5\n",
    "y=3\n",
    "print(x+y)"
   ]
  },
  {
   "cell_type": "markdown",
   "metadata": {},
   "source": [
    "Here are some common variable types and examples of the data they correspond to:\n",
    "\n",
    "Type |\tExample\n",
    "-----|---------\n",
    "Integer\t|42\n",
    "Float (real)|\t3.14\n",
    "Boolean\t|True\n",
    "String\t|Hello\n",
    "List\t|[1,4,\"text\",5]\n",
    "Tuple\t|(42,\"Answer\")\n",
    "Dictionary|\t{\"Name\" : \"Matt\", \"Fingers\" : 10}\n",
    "\n",
    "In many cases you can force Python to interpret a variable has having a particular type. For example:"
   ]
  },
  {
   "cell_type": "code",
   "execution_count": 8,
   "metadata": {},
   "outputs": [
    {
     "output_type": "error",
     "ename": "TypeError",
     "evalue": "unsupported operand type(s) for +: 'int' and 'str'",
     "traceback": [
      "\u001b[1;31m---------------------------------------------------------------------------\u001b[0m",
      "\u001b[1;31mTypeError\u001b[0m                                 Traceback (most recent call last)",
      "\u001b[1;32m<ipython-input-8-b598dfb65ae6>\u001b[0m in \u001b[0;36m<module>\u001b[1;34m\u001b[0m\n\u001b[0;32m      1\u001b[0m \u001b[0mx\u001b[0m\u001b[1;33m=\u001b[0m\u001b[1;36m5\u001b[0m\u001b[1;33m\u001b[0m\u001b[1;33m\u001b[0m\u001b[0m\n\u001b[0;32m      2\u001b[0m \u001b[0my\u001b[0m\u001b[1;33m=\u001b[0m\u001b[1;34m\"Test\"\u001b[0m\u001b[1;33m\u001b[0m\u001b[1;33m\u001b[0m\u001b[0m\n\u001b[1;32m----> 3\u001b[1;33m \u001b[0mprint\u001b[0m \u001b[1;33m(\u001b[0m\u001b[0mx\u001b[0m\u001b[1;33m+\u001b[0m\u001b[0my\u001b[0m\u001b[1;33m)\u001b[0m\u001b[1;33m\u001b[0m\u001b[1;33m\u001b[0m\u001b[0m\n\u001b[0m",
      "\u001b[1;31mTypeError\u001b[0m: unsupported operand type(s) for +: 'int' and 'str'"
     ]
    }
   ],
   "source": [
    "x=5\n",
    "y=\"Test\"\n",
    "print (x+y)"
   ]
  },
  {
   "cell_type": "code",
   "execution_count": 9,
   "metadata": {},
   "outputs": [
    {
     "output_type": "stream",
     "name": "stdout",
     "text": "5Test\n"
    }
   ],
   "source": [
    "print (str(x)+y)"
   ]
  },
  {
   "cell_type": "markdown",
   "metadata": {},
   "source": [
    "In the first case, we get an error because Python doesn't know what to do to add an integer and a string.\n",
    "\n",
    "In the second case, we tell Python to treat `x` as a string and Python knows how to add (concatenate) strings.\n",
    "\n",
    "But you need to be careful and it doesn't always work..."
   ]
  },
  {
   "cell_type": "code",
   "execution_count": 10,
   "metadata": {},
   "outputs": [
    {
     "output_type": "stream",
     "name": "stdout",
     "text": "Convert 1.0 to integer: 1\nConvert 1.5 to integer: 1\n"
    },
    {
     "output_type": "error",
     "ename": "ValueError",
     "evalue": "invalid literal for int() with base 10: 'two'",
     "traceback": [
      "\u001b[1;31m---------------------------------------------------------------------------\u001b[0m",
      "\u001b[1;31mValueError\u001b[0m                                Traceback (most recent call last)",
      "\u001b[1;32m<ipython-input-10-35dc0336ae18>\u001b[0m in \u001b[0;36m<module>\u001b[1;34m\u001b[0m\n\u001b[0;32m      6\u001b[0m \u001b[1;33m\u001b[0m\u001b[0m\n\u001b[0;32m      7\u001b[0m \u001b[0mnum\u001b[0m\u001b[1;33m=\u001b[0m\u001b[1;34m\"two\"\u001b[0m\u001b[1;33m\u001b[0m\u001b[1;33m\u001b[0m\u001b[0m\n\u001b[1;32m----> 8\u001b[1;33m \u001b[0mprint\u001b[0m\u001b[1;33m(\u001b[0m\u001b[1;34m\"Convert 'two' to integer:\"\u001b[0m\u001b[1;33m,\u001b[0m\u001b[0mint\u001b[0m\u001b[1;33m(\u001b[0m\u001b[0mnum\u001b[0m\u001b[1;33m)\u001b[0m\u001b[1;33m)\u001b[0m\u001b[1;33m\u001b[0m\u001b[1;33m\u001b[0m\u001b[0m\n\u001b[0m",
      "\u001b[1;31mValueError\u001b[0m: invalid literal for int() with base 10: 'two'"
     ]
    }
   ],
   "source": [
    "num=1.0\n",
    "print(\"Convert 1.0 to integer:\",int(num))\n",
    "\n",
    "num=1.5\n",
    "print(\"Convert 1.5 to integer:\",int(num))\n",
    "\n",
    "num=\"two\"\n",
    "print(\"Convert 'two' to integer:\",int(num))"
   ]
  },
  {
   "cell_type": "markdown",
   "metadata": {},
   "source": [
    "* p. 21: **2.3 Variable names and keywords**: There are many (conflicting) opinions on variable naming. Consistency wins, but the [PEP8 Style Guide](https://www.python.org/dev/peps/pep-0008/) says that variable and function names should be lower_case_with_underscores connecting multple words."
   ]
  },
  {
   "cell_type": "markdown",
   "metadata": {},
   "source": [
    "* p. 25: **2.10 Asking the user for input**: Here are some examples using the input() function"
   ]
  },
  {
   "cell_type": "code",
   "execution_count": 13,
   "metadata": {},
   "outputs": [
    {
     "output_type": "stream",
     "name": "stdout",
     "text": "This is a test\n"
    }
   ],
   "source": [
    "inp=input()\n",
    "print(inp)"
   ]
  },
  {
   "cell_type": "code",
   "execution_count": 14,
   "metadata": {},
   "outputs": [
    {
     "output_type": "stream",
     "name": "stdout",
     "text": "Hi Matt , nice to meet you!\n"
    }
   ],
   "source": [
    "\n",
    "name=input(\"What is your name?\\n\")\n",
    "print(\"Hi\", name,\", nice to meet you!\")"
   ]
  },
  {
   "cell_type": "markdown",
   "metadata": {},
   "source": [
    "Notice the spaces that print puts between the things we told it to print. That can also be controlled (we just need to put spaces where we do want them):"
   ]
  },
  {
   "cell_type": "code",
   "execution_count": 17,
   "metadata": {},
   "outputs": [
    {
     "output_type": "stream",
     "name": "stdout",
     "text": "Hi Matt, nice to meet you!\n"
    }
   ],
   "source": [
    "name=input(\"What is your name?\\n\")\n",
    "print(\"Hi \", name,\", nice to meet you!\", sep=\"\")"
   ]
  },
  {
   "cell_type": "code",
   "execution_count": 18,
   "metadata": {},
   "outputs": [
    {
     "output_type": "execute_result",
     "data": {
      "text/plain": "17"
     },
     "metadata": {},
     "execution_count": 18
    }
   ],
   "source": [
    "prompt = 'What...is the airspeed velocity of an unladen swallow?\\n'\n",
    "speed = input(prompt)\n",
    "int(speed)"
   ]
  },
  {
   "cell_type": "markdown",
   "metadata": {},
   "source": [
    "## Your turn...\n",
    "In a group, work on **Exercise 3** at the end of Chapter 2 of Py4E (p. 30 in the PDF).\n",
    "\n",
    "If you finish that, do **Exercise 5**."
   ]
  }
 ],
 "metadata": {
  "language_info": {
   "codemirror_mode": {
    "name": "ipython",
    "version": 3
   },
   "file_extension": ".py",
   "mimetype": "text/x-python",
   "name": "python",
   "nbconvert_exporter": "python",
   "pygments_lexer": "ipython3",
   "version": "3.7.3-final"
  },
  "orig_nbformat": 2,
  "kernelspec": {
   "name": "python37364bitprogramdatavirtualenve052a15fdf474e65bee0bc256eac07a5",
   "display_name": "Python 3.7.3 64-bit ('ProgramData': virtualenv)"
  }
 },
 "nbformat": 4,
 "nbformat_minor": 2
}